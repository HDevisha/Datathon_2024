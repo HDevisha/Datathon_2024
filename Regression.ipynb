{
 "cells": [
  {
   "cell_type": "code",
   "execution_count": 91,
   "metadata": {},
   "outputs": [
    {
     "data": {
      "text/html": [
       "<div>\n",
       "<style scoped>\n",
       "    .dataframe tbody tr th:only-of-type {\n",
       "        vertical-align: middle;\n",
       "    }\n",
       "\n",
       "    .dataframe tbody tr th {\n",
       "        vertical-align: top;\n",
       "    }\n",
       "\n",
       "    .dataframe thead th {\n",
       "        text-align: right;\n",
       "    }\n",
       "</style>\n",
       "<table border=\"1\" class=\"dataframe\">\n",
       "  <thead>\n",
       "    <tr style=\"text-align: right;\">\n",
       "      <th></th>\n",
       "      <th>potential_total_value_of_award</th>\n",
       "      <th>recipient_state_name</th>\n",
       "      <th>extent_competed_code</th>\n",
       "      <th>product_or_service_code</th>\n",
       "      <th>award_type_code</th>\n",
       "      <th>program_activities_funding_this_award</th>\n",
       "      <th>woman_owned_business</th>\n",
       "      <th>minority_owned_business</th>\n",
       "      <th>other_minority_owned_business</th>\n",
       "      <th>contracting_officers_determination_of_business_size_code</th>\n",
       "    </tr>\n",
       "  </thead>\n",
       "  <tbody>\n",
       "    <tr>\n",
       "      <th>0</th>\n",
       "      <td>69560.96</td>\n",
       "      <td>MASSACHUSETTS</td>\n",
       "      <td>G</td>\n",
       "      <td>J066</td>\n",
       "      <td>B</td>\n",
       "      <td>00K7: RESEARCH: SAFE AND SUSTAINABLE WATER RES...</td>\n",
       "      <td>f</td>\n",
       "      <td>f</td>\n",
       "      <td>f</td>\n",
       "      <td>O</td>\n",
       "    </tr>\n",
       "    <tr>\n",
       "      <th>1</th>\n",
       "      <td>2692394.40</td>\n",
       "      <td>TEXAS</td>\n",
       "      <td>A</td>\n",
       "      <td>R429</td>\n",
       "      <td>C</td>\n",
       "      <td>0000: UNKNOWN;0044: CIVIL ENFORCEMENT;0050: CO...</td>\n",
       "      <td>f</td>\n",
       "      <td>f</td>\n",
       "      <td>f</td>\n",
       "      <td>O</td>\n",
       "    </tr>\n",
       "    <tr>\n",
       "      <th>2</th>\n",
       "      <td>477626.28</td>\n",
       "      <td>MARYLAND</td>\n",
       "      <td>D</td>\n",
       "      <td>F108</td>\n",
       "      <td>C</td>\n",
       "      <td>00D2: SUPERFUND:  REMEDIAL</td>\n",
       "      <td>f</td>\n",
       "      <td>f</td>\n",
       "      <td>f</td>\n",
       "      <td>S</td>\n",
       "    </tr>\n",
       "    <tr>\n",
       "      <th>3</th>\n",
       "      <td>51073.44</td>\n",
       "      <td>GEORGIA</td>\n",
       "      <td>A</td>\n",
       "      <td>R429</td>\n",
       "      <td>C</td>\n",
       "      <td>00D2: SUPERFUND:  REMEDIAL</td>\n",
       "      <td>f</td>\n",
       "      <td>f</td>\n",
       "      <td>f</td>\n",
       "      <td>O</td>\n",
       "    </tr>\n",
       "    <tr>\n",
       "      <th>4</th>\n",
       "      <td>9799696.81</td>\n",
       "      <td>VIRGINIA</td>\n",
       "      <td>A</td>\n",
       "      <td>F999</td>\n",
       "      <td>C</td>\n",
       "      <td>00D2: SUPERFUND:  REMEDIAL</td>\n",
       "      <td>f</td>\n",
       "      <td>t</td>\n",
       "      <td>f</td>\n",
       "      <td>S</td>\n",
       "    </tr>\n",
       "  </tbody>\n",
       "</table>\n",
       "</div>"
      ],
      "text/plain": [
       "   potential_total_value_of_award recipient_state_name extent_competed_code product_or_service_code award_type_code              program_activities_funding_this_award woman_owned_business minority_owned_business other_minority_owned_business contracting_officers_determination_of_business_size_code\n",
       "0                        69560.96        MASSACHUSETTS                    G                    J066               B  00K7: RESEARCH: SAFE AND SUSTAINABLE WATER RES...                    f                       f                             f                                                  O      \n",
       "1                      2692394.40                TEXAS                    A                    R429               C  0000: UNKNOWN;0044: CIVIL ENFORCEMENT;0050: CO...                    f                       f                             f                                                  O      \n",
       "2                       477626.28             MARYLAND                    D                    F108               C                         00D2: SUPERFUND:  REMEDIAL                    f                       f                             f                                                  S      \n",
       "3                        51073.44              GEORGIA                    A                    R429               C                         00D2: SUPERFUND:  REMEDIAL                    f                       f                             f                                                  O      \n",
       "4                      9799696.81             VIRGINIA                    A                    F999               C                         00D2: SUPERFUND:  REMEDIAL                    f                       t                             f                                                  S      "
      ]
     },
     "execution_count": 91,
     "metadata": {},
     "output_type": "execute_result"
    }
   ],
   "source": [
    "#Import all the libraries\n",
    "import pandas as pd\n",
    "import numpy as np\n",
    "import matplotlib.pyplot as plt\n",
    "from sklearn.model_selection import train_test_split\n",
    "from sklearn.preprocessing import StandardScaler\n",
    "from sklearn.compose import ColumnTransformer\n",
    "from sklearn.preprocessing import OneHotEncoder\n",
    "from sklearn.ensemble import RandomForestClassifier\n",
    "from sklearn.ensemble import RandomForestRegressor\n",
    "from sklearn.ensemble import GradientBoostingRegressor\n",
    "from sklearn.metrics import confusion_matrix\n",
    "from sklearn.metrics import accuracy_score\n",
    "from sklearn.metrics import classification_report\n",
    "from sklearn.metrics import roc_auc_score\n",
    "from sklearn.metrics import roc_curve\n",
    "from sklearn.metrics import auc\n",
    "from sklearn.metrics import precision_recall_curve\n",
    "from sklearn.metrics import average_precision_score\n",
    "from sklearn.metrics import f1_score\n",
    "from sklearn.metrics import mean_squared_error, r2_score\n",
    "from sklearn.model_selection import cross_val_score\n",
    "from sklearn.model_selection import cross_val_predict\n",
    "from sklearn.model_selection import cross_validate\n",
    "from sklearn.model_selection import StratifiedKFold\n",
    "from sklearn.model_selection import KFold\n",
    "from sklearn.model_selection import GridSearchCV\n",
    "from sklearn.model_selection import RandomizedSearchCV\n",
    "from sklearn.model_selection import learning_curve\n",
    "from sklearn.model_selection import validation_curve\n",
    "\n",
    "# Load the data\n",
    "Selected = pd.read_csv('FeatureSelection.csv')\n",
    "\n",
    "# Establish potential_total_value_of_award as the target variable\n",
    "y = 'potential_total_value_of_award'\n",
    "\n",
    "# Establish the features\n",
    "features = Selected.drop(y, axis =1)\n",
    "features = features.dropna() \n",
    "# Look at the dataframe\n",
    "Selected.head()"
   ]
  },
  {
   "cell_type": "code",
   "execution_count": 92,
   "metadata": {},
   "outputs": [
    {
     "data": {
      "text/html": [
       "<div>\n",
       "<style scoped>\n",
       "    .dataframe tbody tr th:only-of-type {\n",
       "        vertical-align: middle;\n",
       "    }\n",
       "\n",
       "    .dataframe tbody tr th {\n",
       "        vertical-align: top;\n",
       "    }\n",
       "\n",
       "    .dataframe thead th {\n",
       "        text-align: right;\n",
       "    }\n",
       "</style>\n",
       "<table border=\"1\" class=\"dataframe\">\n",
       "  <thead>\n",
       "    <tr style=\"text-align: right;\">\n",
       "      <th></th>\n",
       "      <th>recipient_state_name</th>\n",
       "      <th>product_or_service_code</th>\n",
       "      <th>program_activities_funding_this_award</th>\n",
       "      <th>woman_owned_business</th>\n",
       "      <th>minority_owned_business</th>\n",
       "      <th>other_minority_owned_business</th>\n",
       "      <th>contracting_officers_determination_of_business_size_code</th>\n",
       "      <th>extent_competed_code_A</th>\n",
       "      <th>extent_competed_code_B</th>\n",
       "      <th>extent_competed_code_C</th>\n",
       "      <th>extent_competed_code_D</th>\n",
       "      <th>extent_competed_code_F</th>\n",
       "      <th>extent_competed_code_G</th>\n",
       "      <th>extent_competed_code_NDO</th>\n",
       "      <th>award_type_code_A</th>\n",
       "      <th>award_type_code_B</th>\n",
       "      <th>award_type_code_C</th>\n",
       "      <th>award_type_code_D</th>\n",
       "      <th>potential_total_value_of_award</th>\n",
       "    </tr>\n",
       "  </thead>\n",
       "  <tbody>\n",
       "    <tr>\n",
       "      <th>0</th>\n",
       "      <td>0.100708</td>\n",
       "      <td>0.035021</td>\n",
       "      <td>0.019597</td>\n",
       "      <td>0</td>\n",
       "      <td>0</td>\n",
       "      <td>0</td>\n",
       "      <td>NaN</td>\n",
       "      <td>False</td>\n",
       "      <td>False</td>\n",
       "      <td>False</td>\n",
       "      <td>False</td>\n",
       "      <td>False</td>\n",
       "      <td>True</td>\n",
       "      <td>False</td>\n",
       "      <td>False</td>\n",
       "      <td>True</td>\n",
       "      <td>False</td>\n",
       "      <td>False</td>\n",
       "      <td>69560.96</td>\n",
       "    </tr>\n",
       "    <tr>\n",
       "      <th>1</th>\n",
       "      <td>0.023226</td>\n",
       "      <td>0.059336</td>\n",
       "      <td>0.000181</td>\n",
       "      <td>0</td>\n",
       "      <td>0</td>\n",
       "      <td>0</td>\n",
       "      <td>NaN</td>\n",
       "      <td>True</td>\n",
       "      <td>False</td>\n",
       "      <td>False</td>\n",
       "      <td>False</td>\n",
       "      <td>False</td>\n",
       "      <td>False</td>\n",
       "      <td>False</td>\n",
       "      <td>False</td>\n",
       "      <td>False</td>\n",
       "      <td>True</td>\n",
       "      <td>False</td>\n",
       "      <td>2692394.40</td>\n",
       "    </tr>\n",
       "    <tr>\n",
       "      <th>2</th>\n",
       "      <td>0.067683</td>\n",
       "      <td>0.146979</td>\n",
       "      <td>0.119942</td>\n",
       "      <td>0</td>\n",
       "      <td>0</td>\n",
       "      <td>0</td>\n",
       "      <td>NaN</td>\n",
       "      <td>False</td>\n",
       "      <td>False</td>\n",
       "      <td>False</td>\n",
       "      <td>True</td>\n",
       "      <td>False</td>\n",
       "      <td>False</td>\n",
       "      <td>False</td>\n",
       "      <td>False</td>\n",
       "      <td>False</td>\n",
       "      <td>True</td>\n",
       "      <td>False</td>\n",
       "      <td>477626.28</td>\n",
       "    </tr>\n",
       "    <tr>\n",
       "      <th>3</th>\n",
       "      <td>0.019960</td>\n",
       "      <td>0.059336</td>\n",
       "      <td>0.119942</td>\n",
       "      <td>0</td>\n",
       "      <td>0</td>\n",
       "      <td>0</td>\n",
       "      <td>NaN</td>\n",
       "      <td>True</td>\n",
       "      <td>False</td>\n",
       "      <td>False</td>\n",
       "      <td>False</td>\n",
       "      <td>False</td>\n",
       "      <td>False</td>\n",
       "      <td>False</td>\n",
       "      <td>False</td>\n",
       "      <td>False</td>\n",
       "      <td>True</td>\n",
       "      <td>False</td>\n",
       "      <td>51073.44</td>\n",
       "    </tr>\n",
       "    <tr>\n",
       "      <th>4</th>\n",
       "      <td>0.197060</td>\n",
       "      <td>0.062239</td>\n",
       "      <td>0.119942</td>\n",
       "      <td>0</td>\n",
       "      <td>1</td>\n",
       "      <td>0</td>\n",
       "      <td>NaN</td>\n",
       "      <td>True</td>\n",
       "      <td>False</td>\n",
       "      <td>False</td>\n",
       "      <td>False</td>\n",
       "      <td>False</td>\n",
       "      <td>False</td>\n",
       "      <td>False</td>\n",
       "      <td>False</td>\n",
       "      <td>False</td>\n",
       "      <td>True</td>\n",
       "      <td>False</td>\n",
       "      <td>9799696.81</td>\n",
       "    </tr>\n",
       "  </tbody>\n",
       "</table>\n",
       "</div>"
      ],
      "text/plain": [
       "   recipient_state_name  product_or_service_code  program_activities_funding_this_award  woman_owned_business  minority_owned_business  other_minority_owned_business  contracting_officers_determination_of_business_size_code  extent_competed_code_A  extent_competed_code_B  extent_competed_code_C  extent_competed_code_D  extent_competed_code_F  extent_competed_code_G  extent_competed_code_NDO  award_type_code_A  award_type_code_B  award_type_code_C  award_type_code_D  potential_total_value_of_award\n",
       "0              0.100708                 0.035021                               0.019597                     0                        0                              0                                                NaN                          False                   False                   False                   False                   False                    True                     False              False               True              False              False                        69560.96\n",
       "1              0.023226                 0.059336                               0.000181                     0                        0                              0                                                NaN                           True                   False                   False                   False                   False                   False                     False              False              False               True              False                      2692394.40\n",
       "2              0.067683                 0.146979                               0.119942                     0                        0                              0                                                NaN                          False                   False                   False                    True                   False                   False                     False              False              False               True              False                       477626.28\n",
       "3              0.019960                 0.059336                               0.119942                     0                        0                              0                                                NaN                           True                   False                   False                   False                   False                   False                     False              False              False               True              False                        51073.44\n",
       "4              0.197060                 0.062239                               0.119942                     0                        1                              0                                                NaN                           True                   False                   False                   False                   False                   False                     False              False              False               True              False                      9799696.81"
      ]
     },
     "execution_count": 92,
     "metadata": {},
     "output_type": "execute_result"
    }
   ],
   "source": [
    "# Identifying binary, low and high cardinality features\n",
    "binary_columns = features.nunique()[features.nunique() == 2].index.tolist()\n",
    "low_cardinality_columns = features.nunique()[(features.nunique() > 2) & (features.nunique() <= 10)].index.tolist()\n",
    "high_cardinality_columns = features.nunique()[features.nunique() > 10].index.tolist()\n",
    "\n",
    "# Label encode the binary columns\n",
    "for col in binary_columns:\n",
    "    features[col] = features[col].map({'f': 0, 't': 1})\n",
    "\n",
    "# Frequency encode high cardinality columns\n",
    "for col in high_cardinality_columns:\n",
    "    frequency = features[col].value_counts(normalize=True)\n",
    "    features[col] = features[col].map(frequency)\n",
    "\n",
    "# One hot encode low cardinality columns\n",
    "for col in low_cardinality_columns:\n",
    "    dummies = pd.get_dummies(features[col], prefix=col)\n",
    "    features = pd.concat([features, dummies], axis=1)\n",
    "    features.drop(col, axis=1, inplace=True)\n",
    "\n",
    "#combine \n",
    "features[y] = Selected[y] \n",
    "\n",
    "#DF \n",
    "features.head()\n"
   ]
  },
  {
   "cell_type": "code",
   "execution_count": 93,
   "metadata": {},
   "outputs": [
    {
     "name": "stdout",
     "output_type": "stream",
     "text": [
      "<class 'pandas.core.frame.DataFrame'>\n",
      "Index: 5511 entries, 0 to 5944\n",
      "Data columns (total 19 columns):\n",
      " #   Column                                                    Non-Null Count  Dtype  \n",
      "---  ------                                                    --------------  -----  \n",
      " 0   recipient_state_name                                      5511 non-null   float64\n",
      " 1   product_or_service_code                                   5511 non-null   float64\n",
      " 2   program_activities_funding_this_award                     5511 non-null   float64\n",
      " 3   woman_owned_business                                      5511 non-null   int64  \n",
      " 4   minority_owned_business                                   5511 non-null   int64  \n",
      " 5   other_minority_owned_business                             5511 non-null   int64  \n",
      " 6   contracting_officers_determination_of_business_size_code  0 non-null      float64\n",
      " 7   extent_competed_code_A                                    5511 non-null   bool   \n",
      " 8   extent_competed_code_B                                    5511 non-null   bool   \n",
      " 9   extent_competed_code_C                                    5511 non-null   bool   \n",
      " 10  extent_competed_code_D                                    5511 non-null   bool   \n",
      " 11  extent_competed_code_F                                    5511 non-null   bool   \n",
      " 12  extent_competed_code_G                                    5511 non-null   bool   \n",
      " 13  extent_competed_code_NDO                                  5511 non-null   bool   \n",
      " 14  award_type_code_A                                         5511 non-null   bool   \n",
      " 15  award_type_code_B                                         5511 non-null   bool   \n",
      " 16  award_type_code_C                                         5511 non-null   bool   \n",
      " 17  award_type_code_D                                         5511 non-null   bool   \n",
      " 18  potential_total_value_of_award                            5511 non-null   float64\n",
      "dtypes: bool(11), float64(5), int64(3)\n",
      "memory usage: 446.7 KB\n"
     ]
    }
   ],
   "source": [
    "features.info()\n"
   ]
  },
  {
   "cell_type": "code",
   "execution_count": 95,
   "metadata": {},
   "outputs": [],
   "source": [
    "features = features.drop(columns=['contracting_officers_determination_of_business_size_code']) "
   ]
  },
  {
   "cell_type": "code",
   "execution_count": 96,
   "metadata": {},
   "outputs": [],
   "source": [
    "#Set up model \n",
    "X = features.drop(y, axis = 1)\n",
    "Y = features[y]\n",
    "\n",
    "# Split the data into a training set and a test set\n",
    "X_train, X_test, Y_train, Y_test = train_test_split(X, Y, test_size=0.2, random_state=0)"
   ]
  },
  {
   "cell_type": "code",
   "execution_count": 97,
   "metadata": {},
   "outputs": [
    {
     "name": "stdout",
     "output_type": "stream",
     "text": [
      "[('program_activities_funding_this_award', 0.3365696079876865), ('recipient_state_name', 0.1988396362331978), ('product_or_service_code', 0.18622427851445095), ('extent_competed_code_A', 0.08601446635744421), ('extent_competed_code_D', 0.05814738091813538), ('award_type_code_D', 0.04490692975962369), ('woman_owned_business', 0.03910866412773198), ('minority_owned_business', 0.02492135417955308), ('extent_competed_code_B', 0.014135509308427269), ('award_type_code_C', 0.0028429524527656667), ('award_type_code_B', 0.002377367107082809), ('other_minority_owned_business', 0.0019788010657202657), ('extent_competed_code_C', 0.0018168058579256267), ('award_type_code_A', 0.0012210143437027354), ('extent_competed_code_G', 0.0005462898447495079), ('extent_competed_code_NDO', 0.00020975952756998028), ('extent_competed_code_F', 0.00013918241423270392)]\n"
     ]
    }
   ],
   "source": [
    "#Random Forest \n",
    "rf_model = RandomForestRegressor(n_estimators = 100, random_state = 0) \n",
    "\n",
    "# Fit the model\n",
    "rf_model.fit(X_train, Y_train)\n",
    "\n",
    "#feature importance\n",
    "importances = rf_model.feature_importances_\n",
    "\n",
    "# Sort the feature importances\n",
    "features_dictionary = dict(zip(X_train.columns, importances))\n",
    "sorted_features = sorted(features_dictionary.items(), key=lambda x: x[1], reverse=True)\n",
    "sorted_indices = np.argsort(importances)[::-1]\n",
    "\n",
    "# Print the feature importances\n",
    "print(sorted_features)"
   ]
  },
  {
   "cell_type": "code",
   "execution_count": 98,
   "metadata": {},
   "outputs": [
    {
     "data": {
      "image/png": "[encoded data removed]",
      "text/plain": [
       "<Figure size 1000x700 with 1 Axes>"
      ]
     },
     "metadata": {},
     "output_type": "display_data"
    }
   ],
   "source": [
    "#Display \n",
    "plt.figure(figsize=(10, 7))\n",
    "plt.title('Feature Importances', fontsize=18)\n",
    "plt.barh(range(X_train.shape[1]), importances[sorted_indices][::-1], align='center')\n",
    "plt.yticks(range(X_train.shape[1]), X_train.columns[sorted_indices][::-1])\n",
    "plt.tight_layout()\n",
    "plt.show()"
   ]
  },
  {
   "cell_type": "code",
   "execution_count": 99,
   "metadata": {},
   "outputs": [
    {
     "name": "stdout",
     "output_type": "stream",
     "text": [
      "R-squared: -1.0051218902033567\n",
      "RMSE: 7337550.953447666\n"
     ]
    }
   ],
   "source": [
    "# Make predictions on the test set\n",
    "Y_pred = rf_model.predict(X_test)\n",
    "\n",
    "# Calculate R-squared\n",
    "r_squared = r2_score(Y_test, Y_pred)\n",
    "\n",
    "# Calculate RMSE\n",
    "rmse = np.sqrt(mean_squared_error(Y_test, Y_pred))\n",
    "\n",
    "print(f\"R-squared: {r_squared}\")\n",
    "print(f\"RMSE: {rmse}\")"
   ]
  },
  {
   "cell_type": "code",
   "execution_count": 100,
   "metadata": {},
   "outputs": [
    {
     "name": "stdout",
     "output_type": "stream",
     "text": [
      "Gradient Boosting R-squared: -0.4294070124479883\n",
      "Gradient Boosting RMSE: 6195247.98533668\n"
     ]
    }
   ],
   "source": [
    "# Initialize the GradientBoostingRegressor\n",
    "gb_model = GradientBoostingRegressor(n_estimators=100, random_state=0)\n",
    "\n",
    "# Fit the model\n",
    "gb_model.fit(X_train, Y_train)\n",
    "\n",
    "# Make predictions on the test set\n",
    "Y_pred_gb = gb_model.predict(X_test)\n",
    "\n",
    "# Calculate R-squared and RMSE for GradientBoostingRegressor\n",
    "r_squared_gb = r2_score(Y_test, Y_pred_gb)\n",
    "rmse_gb = np.sqrt(mean_squared_error(Y_test, Y_pred_gb))\n",
    "\n",
    "print(f\"Gradient Boosting R-squared: {r_squared_gb}\")\n",
    "print(f\"Gradient Boosting RMSE: {rmse_gb}\")"
   ]
  },
  {
   "cell_type": "code",
   "execution_count": 101,
   "metadata": {},
   "outputs": [],
   "source": [
    "#Filter the dataset\n",
    "owned_business_filter = (features['woman_owned_business'] == 1) | \\\n",
    "                        (features['minority_owned_business'] == 1) | \\\n",
    "                        (features['other_minority_owned_business'] == 1)\n",
    "\n",
    "filtered_features = features[owned_business_filter]\n",
    "\n",
    "#Split into features and target\n",
    "X_filtered = filtered_features.drop('potential_total_value_of_award', axis=1)\n",
    "Y_filtered = filtered_features['potential_total_value_of_award']\n",
    "\n",
    "\n",
    "#Split the filtered data into training and testing sets\n",
    "X_train_filtered, X_test_filtered, Y_train_filtered, Y_test_filtered = train_test_split(\n",
    "    X_filtered, Y_filtered, test_size=0.2, random_state=42)"
   ]
  },
  {
   "cell_type": "code",
   "execution_count": 103,
   "metadata": {},
   "outputs": [],
   "source": [
    "rf_model_filtered = RandomForestRegressor(n_estimators=100, random_state=0)\n",
    "rf_model_filtered.fit(X_train_filtered, Y_train_filtered)\n",
    "\n",
    "Y_pred_rf_filtered = rf_model_filtered.predict(X_test_filtered)\n",
    "\n",
    "r_squared_rf_filtered = r2_score(Y_test_filtered, Y_pred_rf_filtered)\n",
    "rmse_rf_filtered = np.sqrt(mean_squared_error(Y_test_filtered, Y_pred_rf_filtered))"
   ]
  },
  {
   "cell_type": "code",
   "execution_count": 104,
   "metadata": {},
   "outputs": [
    {
     "name": "stdout",
     "output_type": "stream",
     "text": [
      "Filtered Random Forest R-squared: -1.1887779232036557, RMSE: 7204546.408069949\n"
     ]
    }
   ],
   "source": [
    "print(f\"Filtered Random Forest R-squared: {r_squared_rf_filtered}, RMSE: {rmse_rf_filtered}\")"
   ]
  },
  {
   "cell_type": "code",
   "execution_count": 105,
   "metadata": {},
   "outputs": [],
   "source": [
    "gb_model_filtered = GradientBoostingRegressor(n_estimators=100, random_state=0)\n",
    "gb_model_filtered.fit(X_train_filtered, Y_train_filtered)\n",
    "\n",
    "Y_pred_gb_filtered = gb_model_filtered.predict(X_test_filtered)\n",
    "\n",
    "r_squared_gb_filtered = r2_score(Y_test_filtered, Y_pred_gb_filtered)\n",
    "rmse_gb_filtered = np.sqrt(mean_squared_error(Y_test_filtered, Y_pred_gb_filtered))"
   ]
  },
  {
   "cell_type": "code",
   "execution_count": 106,
   "metadata": {},
   "outputs": [
    {
     "name": "stdout",
     "output_type": "stream",
     "text": [
      "Filtered Gradient Boosting R-squared: -4.7293806933748055, RMSE: 11656270.936048549\n"
     ]
    }
   ],
   "source": [
    "print(f\"Filtered Gradient Boosting R-squared: {r_squared_gb_filtered}, RMSE: {rmse_gb_filtered}\")"
   ]
  },
  {
   "cell_type": "code",
   "execution_count": 108,
   "metadata": {},
   "outputs": [
    {
     "name": "stdout",
     "output_type": "stream",
     "text": [
      "Features to keep: ['program_activities_funding_this_award', 'recipient_state_name', 'product_or_service_code', 'extent_competed_code_A', 'extent_competed_code_D', 'award_type_code_D', 'woman_owned_business', 'minority_owned_business', 'extent_competed_code_B']\n",
      "Filtered Reduced Random Forest R-squared: -1.1762289717568155, RMSE: 7183863.75647495\n"
     ]
    }
   ],
   "source": [
    "#Eliminate non-essential features based on the results of the feature importance analysis\n",
    "features_to_keep = [feature[0] for feature in sorted_features if feature[1] > 0.01]\n",
    "\n",
    "print(f\"Features to keep: {features_to_keep}\")\n",
    "\n",
    "#Rerun the model with the reduced feature set\n",
    "X_filtered_reduced = X_filtered[features_to_keep]\n",
    "X_train_filtered_reduced, X_test_filtered_reduced, Y_train_filtered, Y_test_filtered = train_test_split(\n",
    "    X_filtered_reduced, Y_filtered, test_size=0.2, random_state=42)\n",
    "\n",
    "rf_model_filtered_reduced = RandomForestRegressor(n_estimators=100, random_state=0)\n",
    "rf_model_filtered_reduced.fit(X_train_filtered_reduced, Y_train_filtered)\n",
    "\n",
    "Y_pred_rf_filtered_reduced = rf_model_filtered_reduced.predict(X_test_filtered_reduced)\n",
    "\n",
    "r_squared_rf_filtered_reduced = r2_score(Y_test_filtered, Y_pred_rf_filtered_reduced)\n",
    "\n",
    "rmse_rf_filtered_reduced = np.sqrt(mean_squared_error(Y_test_filtered, Y_pred_rf_filtered_reduced))\n",
    "\n",
    "print(f\"Filtered Reduced Random Forest R-squared: {r_squared_rf_filtered_reduced}, RMSE: {rmse_rf_filtered_reduced}\")"
   ]
  },
  {
   "cell_type": "code",
   "execution_count": 109,
   "metadata": {},
   "outputs": [
    {
     "name": "stdout",
     "output_type": "stream",
     "text": [
      "Filtered Reduced Gradient Boosting R-squared: -3.8653232433791613, RMSE: 10741418.634900143\n"
     ]
    }
   ],
   "source": [
    "# Initialize the GradientBoostingRegressor\n",
    "gb_model_filtered_reduced = GradientBoostingRegressor(n_estimators=100, random_state=0)\n",
    "\n",
    "# Fit the model\n",
    "gb_model_filtered_reduced.fit(X_train_filtered_reduced, Y_train_filtered)\n",
    "\n",
    "# Make predictions on the test set\n",
    "Y_pred_gb_filtered_reduced = gb_model_filtered_reduced.predict(X_test_filtered_reduced)\n",
    "\n",
    "# Calculate R-squared and RMSE for GradientBoostingRegressor\n",
    "r_squared_gb_filtered_reduced = r2_score(Y_test_filtered, Y_pred_gb_filtered_reduced)\n",
    "rmse_gb_filtered_reduced = np.sqrt(mean_squared_error(Y_test_filtered, Y_pred_gb_filtered_reduced))\n",
    "                                   \n",
    "print(f\"Filtered Reduced Gradient Boosting R-squared: {r_squared_gb_filtered_reduced}, RMSE: {rmse_gb_filtered_reduced}\")"
   ]
  }
 ],
 "metadata": {
  "kernelspec": {
   "display_name": "Python 3",
   "language": "python",
   "name": "python3"
  },
  "language_info": {
   "codemirror_mode": {
    "name": "ipython",
    "version": 3
   },
   "file_extension": ".py",
   "mimetype": "text/x-python",
   "name": "python",
   "nbconvert_exporter": "python",
   "pygments_lexer": "ipython3",
   "version": "3.11.8"
  }
 },
 "nbformat": 4,
 "nbformat_minor": 2
}
